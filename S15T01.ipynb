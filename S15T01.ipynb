{
 "cells": [
  {
   "cell_type": "markdown",
   "metadata": {},
   "source": [
    "\n",
    "S15 T01: Visualització interactiva amb ElasticSearch Stack\n",
    "Descripció\n",
    "\n",
    "Comencem a familiaritzar-nos la visualització interactiva de gràfics mitjançant Kibana.\n",
    "Nivell 1\n",
    "- Exercici 1\n",
    "\n",
    "Descarrega't Kibana i mostra algunes gràfiques utilitzant conjunts de dades d'Exemple.\n",
    "\n"
   ]
  },
  {
   "cell_type": "markdown",
   "metadata": {},
   "source": [
    "Nivell 2\n",
    "- Exercici 1\n",
    "\n",
    "Implementa un dashboard que visualitzi interactivament les dades que triïs.\n"
   ]
  },
  {
   "cell_type": "markdown",
   "metadata": {},
   "source": [
    "Nivell 3\n",
    "- Exercici 1\n",
    "\n",
    "Implementa un dashboard que generi gràfics utilitzant cadascun dels diferents tipus de gràfics que ofereix Kibana."
   ]
  }
 ],
 "metadata": {
  "language_info": {
   "name": "python"
  },
  "orig_nbformat": 4
 },
 "nbformat": 4,
 "nbformat_minor": 2
}
